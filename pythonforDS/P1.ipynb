{
 "cells": [
  {
   "cell_type": "code",
   "execution_count": 1,
   "id": "84980575-314c-4761-91c9-dfed9040cb58",
   "metadata": {},
   "outputs": [],
   "source": [
    "x=5\n"
   ]
  },
  {
   "cell_type": "code",
   "execution_count": 3,
   "id": "e4559d85-5a85-47ce-9abb-70f693d36101",
   "metadata": {},
   "outputs": [
    {
     "name": "stdout",
     "output_type": "stream",
     "text": [
      "5\n"
     ]
    }
   ],
   "source": [
    "print(x)"
   ]
  },
  {
   "cell_type": "markdown",
   "id": "85dd0e3f-a261-4eca-b4df-74081545d927",
   "metadata": {},
   "source": [
    "# Hello This is markdown"
   ]
  },
  {
   "cell_type": "code",
   "execution_count": null,
   "id": "1b11fe31-0d9c-4363-b1f0-a0ca231555fe",
   "metadata": {},
   "outputs": [],
   "source": []
  }
 ],
 "metadata": {
  "kernelspec": {
   "display_name": "Python 3 (ipykernel)",
   "language": "python",
   "name": "python3"
  },
  "language_info": {
   "codemirror_mode": {
    "name": "ipython",
    "version": 3
   },
   "file_extension": ".py",
   "mimetype": "text/x-python",
   "name": "python",
   "nbconvert_exporter": "python",
   "pygments_lexer": "ipython3",
   "version": "3.12.1"
  }
 },
 "nbformat": 4,
 "nbformat_minor": 5
}
